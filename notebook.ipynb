{
 "cells": [
  {
   "cell_type": "code",
   "execution_count": 1,
   "metadata": {},
   "outputs": [],
   "source": [
    "# # %load_ext autoreload\n",
    "# %autoreload 2\n",
    "import torch\n",
    "from transformer_vq.nn.attn_vq import VQAttentionQK\n",
    "from transformer_vq.nn.config_spec import TransformerConfig\n",
    "from transformer_vq.nn.emb import TransformerEmbedding as Emb\n",
    "import yaml\n",
    "from einops import rearrange\n",
    "with open('conf.yml') as f:\n",
    "    config = yaml.load(f, Loader=yaml.FullLoader)\n",
    "n_vocab = config['n_vocab']\n",
    "sequence_length = config['sequence_len']\n",
    "batch_size = config['global_batch_size']\n",
    "d_model = config['d_model']\n",
    "config['d_type'] = torch.float32\n",
    "config['param_dtype'] = torch.float32\n",
    "config['device'] = 'cuda' if torch.cuda.is_available() else 'cpu'\n",
    "data = torch.randint(low=0, high=n_vocab, size=(4, sequence_length))\n",
    "d_model = config['d_model']\n",
    "emb = Emb(n_vocab, d_model)\n",
    "model_config = TransformerConfig(**config)\n",
    "model = VQAttentionQK(model_config)\n",
    "data = emb(data)\n",
    "block_len = config['block_len']\n",
    "data = rearrange(data, 'b (l s) d -> l b s d', l=block_len)\n",
    "# data = rearrange(data, 'b s d -> b (s d)')"
   ]
  },
  {
   "cell_type": "code",
   "execution_count": 2,
   "metadata": {},
   "outputs": [
    {
     "data": {
      "text/plain": [
       "torch.Size([32, 4, 32, 1024])"
      ]
     },
     "execution_count": 2,
     "metadata": {},
     "output_type": "execute_result"
    }
   ],
   "source": [
    "data.shape"
   ]
  },
  {
   "cell_type": "code",
   "execution_count": 3,
   "metadata": {},
   "outputs": [
    {
     "data": {
      "text/plain": [
       "32"
      ]
     },
     "execution_count": 3,
     "metadata": {},
     "output_type": "execute_result"
    }
   ],
   "source": [
    "block_len"
   ]
  },
  {
   "cell_type": "code",
   "execution_count": 8,
   "metadata": {},
   "outputs": [],
   "source": [
    "q, k, v, g = model.compute_k_q_v_g(data)"
   ]
  },
  {
   "cell_type": "code",
   "execution_count": 9,
   "metadata": {},
   "outputs": [
    {
     "data": {
      "text/plain": [
       "torch.Size([32, 4, 32, 384])"
      ]
     },
     "execution_count": 9,
     "metadata": {},
     "output_type": "execute_result"
    }
   ],
   "source": [
    "q.shape"
   ]
  },
  {
   "cell_type": "code",
   "execution_count": 11,
   "metadata": {},
   "outputs": [
    {
     "data": {
      "text/plain": [
       "torch.Size([32, 4, 3, 32, 128])"
      ]
     },
     "execution_count": 11,
     "metadata": {},
     "output_type": "execute_result"
    }
   ],
   "source": [
    "k.shape"
   ]
  },
  {
   "cell_type": "code",
   "execution_count": 12,
   "metadata": {},
   "outputs": [
    {
     "data": {
      "text/plain": [
       "torch.Size([32, 4, 3, 32, 128])"
      ]
     },
     "execution_count": 12,
     "metadata": {},
     "output_type": "execute_result"
    }
   ],
   "source": [
    "v.shape"
   ]
  },
  {
   "cell_type": "code",
   "execution_count": 13,
   "metadata": {},
   "outputs": [
    {
     "data": {
      "text/plain": [
       "torch.Size([32, 4, 32, 384])"
      ]
     },
     "execution_count": 13,
     "metadata": {},
     "output_type": "execute_result"
    }
   ],
   "source": [
    "g.shape"
   ]
  },
  {
   "cell_type": "code",
   "execution_count": 5,
   "metadata": {},
   "outputs": [],
   "source": [
    "from transformer_vq.nn.norm import LayerNorm"
   ]
  },
  {
   "cell_type": "code",
   "execution_count": 6,
   "metadata": {},
   "outputs": [],
   "source": [
    "norm = LayerNorm(d_model, 42)"
   ]
  },
  {
   "cell_type": "code",
   "execution_count": 7,
   "metadata": {},
   "outputs": [
    {
     "data": {
      "text/plain": [
       "LayerNorm()"
      ]
     },
     "execution_count": 7,
     "metadata": {},
     "output_type": "execute_result"
    }
   ],
   "source": [
    "norm"
   ]
  },
  {
   "cell_type": "code",
   "execution_count": 14,
   "metadata": {},
   "outputs": [],
   "source": [
    "import einops; import torch"
   ]
  },
  {
   "cell_type": "code",
   "execution_count": 15,
   "metadata": {},
   "outputs": [
    {
     "name": "stdout",
     "output_type": "stream",
     "text": [
      "torch.Size([3, 1, 4])\n",
      "torch.Size([3, 4])\n"
     ]
    }
   ],
   "source": [
    "x = torch.randn(3, 1, 4)\n",
    "x_squeezed = rearrange(x, 'h 1 w -> h w')\n",
    "\n",
    "print(x.shape)        # Output: torch.Size([3, 1, 4])\n",
    "print(x_squeezed.shape)  "
   ]
  },
  {
   "cell_type": "code",
   "execution_count": 16,
   "metadata": {},
   "outputs": [],
   "source": [
    "import copy\n",
    "import math\n",
    "\n",
    "import torch\n",
    "from torch import nn\n",
    "import torch.nn.functional as F\n",
    "\n",
    "# Copy a module N times\n",
    "def clones(module, N):\n",
    "    return nn.ModuleList([copy.deepcopy(module) for _ in range(N)])\n",
    "\n",
    "# Implement attention (Scaled Dot Product)\n",
    "def attention(query, key, value, mask=None, dropout=None):\n",
    "    d_k = query.size(-1)\n",
    "    scores = torch.matmul(query, key.transpose(-2, -1)) / math.sqrt(d_k)\n",
    "    if mask is not None:\n",
    "        scores = scores.masked_fill(mask == 0, -1e9)\n",
    "    p_attn = F.softmax(scores, dim = -1)\n",
    "    if dropout is not None:\n",
    "        p_attn = dropout(p_attn)\n",
    "    attention_result = torch.matmul(p_attn, value)\n",
    "    return attention_result, p_attn\n",
    "\n",
    "class MultiHeadedAttention(nn.Module):\n",
    "    def __init__(self, h, d_model, dropout=0.1):\n",
    "        \"Take in model size and number of heads.\"\n",
    "        super(MultiHeadedAttention, self).__init__()\n",
    "        assert d_model % h == 0\n",
    "        # We assume d_v always equals d_k\n",
    "        self.d_k = d_model // h\n",
    "        self.h = h\n",
    "        self.linears = clones(nn.Linear(d_model, d_model), 4)\n",
    "        self.attn = None\n",
    "        self.dropout = nn.Dropout(p=dropout)\n",
    "        \n",
    "    def forward(self, query, key, value, mask=None):\n",
    "        \"Implements Figure 2\"\n",
    "        if mask is not None:\n",
    "            # Same mask applied to all h heads.\n",
    "            mask = mask.unsqueeze(1)\n",
    "        nbatches = query.size(0)\n",
    "        \n",
    "        # 1) Do all the linear projections in batch from d_model => h x d_k \n",
    "        query, key, value = [l(x).view(nbatches, -1, self.h, self.d_k).transpose(1, 2) \n",
    "                             for l, x in zip(self.linears, (query, key, value))]\n",
    "        \n",
    "        # 2) Apply attention on all the projected vectors in batch. \n",
    "        x, self.attn = attention(query, key, value, mask=mask, dropout=self.dropout)\n",
    "        \n",
    "        # 3) \"Concat\" using a view and apply a final linear. \n",
    "        x = x.transpose(1, 2).contiguous().view(nbatches, -1, self.h * self.d_k)\n",
    "        return self.linears[-1](x)"
   ]
  },
  {
   "cell_type": "code",
   "execution_count": 19,
   "metadata": {},
   "outputs": [
    {
     "name": "stdout",
     "output_type": "stream",
     "text": [
      "With as many attention queries as there are values:\n",
      "\n",
      "query: torch.Size([4, 1, 128])\n",
      "value: torch.Size([4, 2048, 128])\n",
      "result: torch.Size([4, 1, 128])\n",
      "\n",
      "\n"
     ]
    }
   ],
   "source": [
    "import numpy as np\n",
    "batch_size = 4\n",
    "sequence_length = 2048\n",
    "hidden_size = 128\n",
    "attention_heads = 1\n",
    "mha = MultiHeadedAttention(h=attention_heads, d_model=hidden_size)\n",
    "print(\"With as many attention queries as there are values:\\n\")\n",
    "query = torch.tensor(np.ones([batch_size, 1, hidden_size])).float()\n",
    "value = torch.tensor(np.ones([batch_size, sequence_length, hidden_size])).float()\n",
    "result = mha.forward(query, value, value)\n",
    "print(\"query:\", query.size())\n",
    "print(\"value:\", value.size())\n",
    "print(\"result:\", result.size())\n",
    "print(\"\\n\")"
   ]
  },
  {
   "cell_type": "code",
   "execution_count": 20,
   "metadata": {},
   "outputs": [],
   "source": [
    "def attention(query, key, value, mask=None, dropout=None):\n",
    "    d_k = query.size(-1)\n",
    "    scores = torch.matmul(query, key.transpose(-2, -1)) / math.sqrt(d_k)\n",
    "    if mask is not None:\n",
    "        scores = scores.masked_fill(mask == 0, -1e9)\n",
    "    p_attn = F.softmax(scores, dim = -1)\n",
    "    if dropout is not None:\n",
    "        p_attn = dropout(p_attn)\n",
    "    attention_result = torch.matmul(p_attn, value)\n",
    "    return attention_result, p_attn"
   ]
  },
  {
   "cell_type": "code",
   "execution_count": null,
   "metadata": {},
   "outputs": [
    {
     "data": {
      "text/plain": [
       "torch.Size([4, 2048, 1, 128])"
      ]
     },
     "execution_count": 25,
     "metadata": {},
     "output_type": "execute_result"
    }
   ],
   "source": [
    "queries = torch.randn(4, 2048, 1, 128)\n",
    "keys = torch.randn(4, 2048, 1, 128)\n",
    "values = torch.randn(4, 2048, 1, 128)\n",
    "# shape(batch, sequence_length, num_heads, hidden_size)\n",
    "attention(queries, keys, values)[0].shape"
   ]
  },
  {
   "cell_type": "code",
   "execution_count": 26,
   "metadata": {},
   "outputs": [
    {
     "name": "stdout",
     "output_type": "stream",
     "text": [
      "Collecting flops-profiler\n",
      "  Obtaining dependency information for flops-profiler from https://files.pythonhosted.org/packages/43/26/5732be586af7ab6cf8a518c91e7a5a44a839aa00d014173eee0398d357c7/flops_profiler-0.1.2-py3-none-any.whl.metadata\n",
      "  Downloading flops_profiler-0.1.2-py3-none-any.whl.metadata (33 kB)\n",
      "Requirement already satisfied: importlib-metadata<7.0.0,>=6.0.0 in /Users/jmuneton/miniconda3/envs/torch/lib/python3.9/site-packages (from flops-profiler) (6.8.0)\n",
      "Requirement already satisfied: zipp>=0.5 in /Users/jmuneton/miniconda3/envs/torch/lib/python3.9/site-packages (from importlib-metadata<7.0.0,>=6.0.0->flops-profiler) (3.17.0)\n",
      "Downloading flops_profiler-0.1.2-py3-none-any.whl (20 kB)\n",
      "Installing collected packages: flops-profiler\n",
      "Successfully installed flops-profiler-0.1.2\n",
      "Note: you may need to restart the kernel to use updated packages.\n"
     ]
    }
   ],
   "source": [
    "pip install flops-profiler"
   ]
  },
  {
   "cell_type": "code",
   "execution_count": 2,
   "metadata": {},
   "outputs": [
    {
     "ename": "ImportError",
     "evalue": "cannot import name 'get_model_profile' from 'flops_profiler' (/Users/jmuneton/miniconda3/envs/torch/lib/python3.9/site-packages/flops_profiler/__init__.py)",
     "output_type": "error",
     "traceback": [
      "\u001b[0;31m---------------------------------------------------------------------------\u001b[0m",
      "\u001b[0;31mImportError\u001b[0m                               Traceback (most recent call last)",
      "Cell \u001b[0;32mIn[2], line 3\u001b[0m\n\u001b[1;32m      1\u001b[0m \u001b[38;5;28;01mimport\u001b[39;00m \u001b[38;5;21;01mtorchvision\u001b[39;00m\u001b[38;5;21;01m.\u001b[39;00m\u001b[38;5;21;01mmodels\u001b[39;00m \u001b[38;5;28;01mas\u001b[39;00m \u001b[38;5;21;01mmodels\u001b[39;00m\n\u001b[1;32m      2\u001b[0m \u001b[38;5;28;01mimport\u001b[39;00m \u001b[38;5;21;01mtorch\u001b[39;00m\n\u001b[0;32m----> 3\u001b[0m \u001b[38;5;28;01mfrom\u001b[39;00m \u001b[38;5;21;01mflops_profiler\u001b[39;00m \u001b[38;5;28;01mimport\u001b[39;00m get_model_profile\n\u001b[1;32m      5\u001b[0m \u001b[38;5;28;01mwith\u001b[39;00m torch\u001b[38;5;241m.\u001b[39mcuda\u001b[38;5;241m.\u001b[39mdevice(\u001b[38;5;241m0\u001b[39m):\n\u001b[1;32m      6\u001b[0m     model \u001b[38;5;241m=\u001b[39m models\u001b[38;5;241m.\u001b[39malexnet()\n",
      "\u001b[0;31mImportError\u001b[0m: cannot import name 'get_model_profile' from 'flops_profiler' (/Users/jmuneton/miniconda3/envs/torch/lib/python3.9/site-packages/flops_profiler/__init__.py)"
     ]
    }
   ],
   "source": [
    "import torchvision.models as models\n",
    "import torch\n",
    "from flops_profiler import get_model_profile\n",
    "\n",
    "with torch.cuda.device(0):\n",
    "    model = models.alexnet()\n",
    "    batch_size = 256\n",
    "    flops, macs, params = get_model_profile(model=model, # model\n",
    "                                    input_shape=(batch_size, 3, 224, 224), # input shape to the model. If specified, the model takes a tensor with this shape as the only positional argument.\n",
    "                                    args=None, # list of positional arguments to the model.\n",
    "                                    kwargs=None, # dictionary of keyword arguments to the model.\n",
    "                                    print_profile=True, # prints the model graph with the measured profile attached to each module\n",
    "                                    detailed=True, # print the detailed profile\n",
    "                                    module_depth=-1, # depth into the nested modules, with -1 being the inner most modules\n",
    "                                    top_modules=1, # the number of top modules to print aggregated profile\n",
    "                                    warm_up=10, # the number of warm-ups before measuring the time of each module\n",
    "                                    as_string=True, # print raw numbers (e.g. 1000) or as human-readable strings (e.g. 1k)\n",
    "                                    output_file=None, # path to the output file. If None, the profiler prints to stdout.\n",
    "                                    ignore_modules=None, # the list of modules to ignore in the profiling\n",
    "                                    func_name='forward') # the function name to profile, \"forward\" by default, for huggingface generative models, `generate` is used"
   ]
  },
  {
   "cell_type": "code",
   "execution_count": null,
   "metadata": {},
   "outputs": [],
   "source": []
  }
 ],
 "metadata": {
  "kernelspec": {
   "display_name": "torch",
   "language": "python",
   "name": "python3"
  },
  "language_info": {
   "codemirror_mode": {
    "name": "ipython",
    "version": 3
   },
   "file_extension": ".py",
   "mimetype": "text/x-python",
   "name": "python",
   "nbconvert_exporter": "python",
   "pygments_lexer": "ipython3",
   "version": "3.9.18"
  }
 },
 "nbformat": 4,
 "nbformat_minor": 2
}
